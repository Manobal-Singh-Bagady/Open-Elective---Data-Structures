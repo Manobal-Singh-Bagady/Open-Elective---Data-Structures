{
 "cells": [
  {
   "cell_type": "markdown",
   "metadata": {},
   "source": [
    "# Assignment 5 - Sorting Comparisons\n",
    "\n",
    "---\n",
    "\n",
    "## Comparison between Bubble Sort and Selection Sort\n",
    "\n",
    "In bubble sort, we compare two consecutive elements and then swap. Whereas, in selection sort we find the element with the least/most value then swap to place it at its correct position."
   ]
  },
  {
   "cell_type": "markdown",
   "metadata": {},
   "source": [
    "### Code we will be using:"
   ]
  },
  {
   "cell_type": "markdown",
   "metadata": {},
   "source": [
    "#### functions of bubble sort and Selection sort"
   ]
  },
  {
   "cell_type": "markdown",
   "metadata": {},
   "source": [
    "##### Bubble Sort"
   ]
  },
  {
   "cell_type": "code",
   "execution_count": 1,
   "metadata": {},
   "outputs": [],
   "source": [
    "def bubbleSort(array):\n",
    "  numOfComparisons=0\n",
    "  numOfSwaps=0\n",
    "    \n",
    "  for i in range(len(array)):\n",
    "    \n",
    "    \n",
    "    for j in range(0, len(array) - i - 1):\n",
    "\n",
    "        if array[j] > array[j + 1]:\n",
    "\n",
    "            array[j],array[j+1]=array[j+1],array[j]\n",
    "            numOfSwaps+=1\n",
    "\n",
    "        numOfComparisons+=1\n",
    "\n",
    "  return numOfComparisons, numOfSwaps"
   ]
  },
  {
   "cell_type": "markdown",
   "metadata": {},
   "source": [
    "##### Selection Sort"
   ]
  },
  {
   "cell_type": "code",
   "execution_count": 2,
   "metadata": {},
   "outputs": [],
   "source": [
    "def selectionSort(array, size):\n",
    "    numOfComparisons=0\n",
    "    numOfSwaps=0\n",
    "   \n",
    "    for step in range(size):\n",
    "        min_idx = step\n",
    "\n",
    "        for i in range(step + 1, size):\n",
    "            numOfComparisons+=1\n",
    "            \n",
    "            if array[i] < array[min_idx]:\n",
    "                min_idx = i\n",
    "         \n",
    "        (array[step], array[min_idx]) = (array[min_idx], array[step])\n",
    "        numOfSwaps+=1\n",
    "\n",
    "    return numOfComparisons,numOfSwaps"
   ]
  },
  {
   "cell_type": "markdown",
   "metadata": {},
   "source": [
    "#### Data we will be using for our test cases"
   ]
  },
  {
   "cell_type": "code",
   "execution_count": 3,
   "metadata": {},
   "outputs": [],
   "source": [
    "data1 = [-2, 45, 0, 11, -9]\n",
    "data2 = [1, 2, 3, 4, 5]\n",
    "data3 = [5, 4, 3, 2, 1]"
   ]
  },
  {
   "cell_type": "markdown",
   "metadata": {},
   "source": [
    "---"
   ]
  },
  {
   "cell_type": "markdown",
   "metadata": {},
   "source": [
    "### Comparison:"
   ]
  },
  {
   "cell_type": "markdown",
   "metadata": {},
   "source": [
    "#### Based on Number of Comparisons"
   ]
  },
  {
   "cell_type": "markdown",
   "metadata": {},
   "source": [
    "##### Bubble Sort"
   ]
  },
  {
   "cell_type": "code",
   "execution_count": 4,
   "metadata": {},
   "outputs": [
    {
     "name": "stdout",
     "output_type": "stream",
     "text": [
      "Using BUBBLE SORT\n",
      "\n",
      "The data being sorted is: [-2, 45, 0, 11, -9]\n",
      "Sorted Array in Ascending Order: [-9, -2, 0, 11, 45]\n",
      "Number of comparisons= 10\n",
      "\n",
      "The data being sorted is: [1, 2, 3, 4, 5]\n",
      "Sorted Array in Ascending Order: [1, 2, 3, 4, 5]\n",
      "Number of comparisons= 10\n",
      "\n",
      "The data being sorted is: [5, 4, 3, 2, 1]\n",
      "Sorted Array in Ascending Order: [1, 2, 3, 4, 5]\n",
      "Number of comparisons= 10\n"
     ]
    }
   ],
   "source": [
    "print(\"Using BUBBLE SORT\")\n",
    "\n",
    "print()\n",
    "\n",
    "print(\"The data being sorted is:\",data1)\n",
    "num_comparisons1 , num_swaps1 = bubbleSort(data1)\n",
    "print(\"Sorted Array in Ascending Order:\" , data1)\n",
    "print(\"Number of comparisons=\", num_comparisons1)\n",
    "\n",
    "print()\n",
    "\n",
    "print(\"The data being sorted is:\",data2)\n",
    "num_comparisons2 , num_swaps2 = bubbleSort(data2)\n",
    "print(\"Sorted Array in Ascending Order:\" , data2)\n",
    "print(\"Number of comparisons=\", num_comparisons2)\n",
    "\n",
    "print()\n",
    "\n",
    "print(\"The data being sorted is:\",data3)\n",
    "num_comparisons3 , num_swaps3 = bubbleSort(data3)\n",
    "print(\"Sorted Array in Ascending Order:\" , data3)\n",
    "print(\"Number of comparisons=\", num_comparisons3)"
   ]
  },
  {
   "cell_type": "markdown",
   "metadata": {},
   "source": [
    "##### Selection Sort"
   ]
  },
  {
   "cell_type": "code",
   "execution_count": 5,
   "metadata": {},
   "outputs": [
    {
     "name": "stdout",
     "output_type": "stream",
     "text": [
      "Using SELECTION SORT\n",
      "\n",
      "The data being sorted is: [-9, -2, 0, 11, 45]\n",
      "Sorted Array in Ascending Order: [-9, -2, 0, 11, 45]\n",
      "Number of comparisons= 10\n",
      "\n",
      "The data being sorted is: [1, 2, 3, 4, 5]\n",
      "Sorted Array in Ascending Order: [1, 2, 3, 4, 5]\n",
      "Number of comparisons= 10\n",
      "\n",
      "The data being sorted is: [1, 2, 3, 4, 5]\n",
      "Sorted Array in Ascending Order: [1, 2, 3, 4, 5]\n",
      "Number of comparisons= 10\n"
     ]
    }
   ],
   "source": [
    "print(\"Using SELECTION SORT\")\n",
    "\n",
    "print()\n",
    "print(\"The data being sorted is:\",data1)\n",
    "num_comparisons1 , num_swaps1 = selectionSort(data1,len(data1))\n",
    "print(\"Sorted Array in Ascending Order:\" , data1)\n",
    "print(\"Number of comparisons=\", num_comparisons1)\n",
    "\n",
    "print()\n",
    "\n",
    "print(\"The data being sorted is:\",data2)\n",
    "num_comparisons2 , num_swaps2 = selectionSort(data2,len(data2))\n",
    "print(\"Sorted Array in Ascending Order:\" , data2)\n",
    "print(\"Number of comparisons=\", num_comparisons2)\n",
    "\n",
    "print()\n",
    "\n",
    "print(\"The data being sorted is:\",data3)\n",
    "num_comparisons3 , num_swaps3 = selectionSort(data3,len(data3))\n",
    "print(\"Sorted Array in Ascending Order:\" , data3)\n",
    "print(\"Number of comparisons=\", num_comparisons3)"
   ]
  },
  {
   "cell_type": "markdown",
   "metadata": {},
   "source": [
    "##### Bubble Sort vs Selection Sort"
   ]
  },
  {
   "cell_type": "markdown",
   "metadata": {},
   "source": [
    "| Bubble Sort | Selection Sort |\n",
    "| :---: | :---: |\n",
    "| The number of comparisons nearly equals n^2 | The number of comparisons also nearly equals n^2 |\n",
    "| In our Example No. of comparisons : 10 | In our Example No. of Comparisons : 10 |\n",
    "\n",
    "So as you can see in the results, if we compare both the sorts with the help of number of comparisons, they are same in both bubble and selection sort in all the cases."
   ]
  },
  {
   "cell_type": "markdown",
   "metadata": {},
   "source": [
    "---"
   ]
  },
  {
   "cell_type": "markdown",
   "metadata": {},
   "source": [
    "#### Based on Number of Swaps"
   ]
  },
  {
   "cell_type": "markdown",
   "metadata": {},
   "source": [
    "##### Bubble Sort"
   ]
  },
  {
   "cell_type": "code",
   "execution_count": 6,
   "metadata": {},
   "outputs": [
    {
     "name": "stdout",
     "output_type": "stream",
     "text": [
      "Using BUBBLE SORT\n",
      "\n",
      "The data being sorted is: [-9, -2, 0, 11, 45]\n",
      "Sorted Array in Ascending Order: [-9, -2, 0, 11, 45]\n",
      "Number of swaps= 0\n",
      "\n",
      "The data being sorted is: [1, 2, 3, 4, 5]\n",
      "Sorted Array in Ascending Order: [1, 2, 3, 4, 5]\n",
      "Number of swaps= 0\n",
      "\n",
      "The data being sorted is: [1, 2, 3, 4, 5]\n",
      "Sorted Array in Ascending Order: [1, 2, 3, 4, 5]\n",
      "Number of swaps= 0\n"
     ]
    }
   ],
   "source": [
    "print(\"Using BUBBLE SORT\")\n",
    "\n",
    "print()\n",
    "\n",
    "print(\"The data being sorted is:\",data1)\n",
    "num_comparisons1 , num_swaps1 = bubbleSort(data1)\n",
    "print(\"Sorted Array in Ascending Order:\" , data1)\n",
    "print(\"Number of swaps=\", num_swaps1)\n",
    "\n",
    "print()\n",
    "\n",
    "print(\"The data being sorted is:\",data2)\n",
    "num_comparisons2 , num_swaps2 = bubbleSort(data2)\n",
    "print(\"Sorted Array in Ascending Order:\" , data2)\n",
    "print(\"Number of swaps=\", num_swaps2)\n",
    "\n",
    "print()\n",
    "\n",
    "print(\"The data being sorted is:\",data3)\n",
    "num_comparisons3 , num_swaps3 = bubbleSort(data3)\n",
    "print(\"Sorted Array in Ascending Order:\" , data3)\n",
    "print(\"Number of swaps=\", num_swaps3)"
   ]
  },
  {
   "cell_type": "markdown",
   "metadata": {},
   "source": [
    "##### Selection Sort"
   ]
  },
  {
   "cell_type": "code",
   "execution_count": 7,
   "metadata": {},
   "outputs": [
    {
     "name": "stdout",
     "output_type": "stream",
     "text": [
      "Using SELECTION SORT\n",
      "\n",
      "The data being sorted is: [-9, -2, 0, 11, 45]\n",
      "Sorted Array in Ascending Order: [-9, -2, 0, 11, 45]\n",
      "Number of swaps= 5\n",
      "\n",
      "The data being sorted is: [1, 2, 3, 4, 5]\n",
      "Sorted Array in Ascending Order: [1, 2, 3, 4, 5]\n",
      "Number of swaps= 5\n",
      "\n",
      "The data being sorted is: [1, 2, 3, 4, 5]\n",
      "Sorted Array in Ascending Order: [1, 2, 3, 4, 5]\n",
      "Number of swaps= 5\n"
     ]
    }
   ],
   "source": [
    "print(\"Using SELECTION SORT\")\n",
    "\n",
    "print()\n",
    "\n",
    "print(\"The data being sorted is:\",data1)\n",
    "num_comparisons1 , num_swaps1 = selectionSort(data1,len(data1))\n",
    "print(\"Sorted Array in Ascending Order:\" , data1)\n",
    "print(\"Number of swaps=\", num_swaps1)\n",
    "\n",
    "print()\n",
    "\n",
    "print(\"The data being sorted is:\",data2)\n",
    "num_comparisons2 , num_swaps2 = selectionSort(data2,len(data2))\n",
    "print(\"Sorted Array in Ascending Order:\" , data2)\n",
    "print(\"Number of swaps=\", num_swaps2)\n",
    "\n",
    "print()\n",
    "\n",
    "print(\"The data being sorted is:\",data3)\n",
    "num_comparisons3 , num_swaps3 = selectionSort(data3,len(data3))\n",
    "print(\"Sorted Array in Ascending Order:\" , data3)\n",
    "print(\"Number of swaps=\", num_swaps3)"
   ]
  },
  {
   "cell_type": "markdown",
   "metadata": {},
   "source": [
    "##### Bubble Sort vs Selection Sort"
   ]
  },
  {
   "cell_type": "markdown",
   "metadata": {},
   "source": [
    "| BUBBLE SORT | SELECTON SORT |\n",
    "| :---: | :---: |\n",
    "| More number of swaps in worst case | Less number of swaps in worst case |\n",
    "| Less number of swaps in best case | More number of swaps in best case |\n",
    "| In our Example No. of swaps : 6, 0, 10 | In our Example No. of swaps : 5 |"
   ]
  },
  {
   "cell_type": "markdown",
   "metadata": {},
   "source": [
    "---"
   ]
  },
  {
   "cell_type": "markdown",
   "metadata": {},
   "source": [
    "#### Based on In-Place and Out-Place Implementation"
   ]
  },
  {
   "cell_type": "markdown",
   "metadata": {},
   "source": [
    "| BUBBLE SORT | SELECTON SORT |\n",
    "| :---: | :---: |\n",
    "| Only in-place implementation | Both in-place and outplace implementation |"
   ]
  },
  {
   "cell_type": "markdown",
   "metadata": {},
   "source": [
    "##### Selection sort in outplace implementation"
   ]
  },
  {
   "cell_type": "code",
   "execution_count": 8,
   "metadata": {},
   "outputs": [],
   "source": [
    "def findmindex(array):\n",
    "    min_idx = 0\n",
    "    for i in range(1, len(array)):\n",
    "        if array[i] < array[min_idx]:\n",
    "            min_idx = i\n",
    "    return min_idx\n",
    "\n",
    "def selectionSort_outplace(array, size):\n",
    "    temp = []\n",
    "    while len(array) > 0:\n",
    "        min_idx = findmindex(array)\n",
    "        temp.append(array.pop(min_idx))\n",
    "    for i in range(len(temp)):\n",
    "        array.append(temp[i])"
   ]
  },
  {
   "cell_type": "code",
   "execution_count": 9,
   "metadata": {},
   "outputs": [
    {
     "name": "stdout",
     "output_type": "stream",
     "text": [
      "SELECTION SORT OUT-PLACE Implementation\n",
      "\n",
      "The data being sorted is: [5, 4, 3, 2, 1]\n",
      "Sorted Array in Ascending Order: [1, 2, 3, 4, 5]\n"
     ]
    }
   ],
   "source": [
    "print(\"SELECTION SORT OUT-PLACE Implementation\")\n",
    "\n",
    "print()\n",
    "\n",
    "data = [5, 4, 3, 2, 1]\n",
    "\n",
    "print(\"The data being sorted is:\",data)\n",
    "\n",
    "selectionSort_outplace(data, len(data))\n",
    "print(\"Sorted Array in Ascending Order:\" , data)"
   ]
  },
  {
   "cell_type": "markdown",
   "metadata": {},
   "source": [
    "---"
   ]
  },
  {
   "cell_type": "markdown",
   "metadata": {},
   "source": [
    "### Bonus: Deriving Time Complexity through Code."
   ]
  },
  {
   "cell_type": "markdown",
   "metadata": {},
   "source": [
    "- we will be finding the time complexity of bubble sort and selection sort using the code we have written above.\n",
    "- we will use big-o-calculator library of python to find the time complexity of the code."
   ]
  },
  {
   "cell_type": "markdown",
   "metadata": {},
   "source": [
    "#### Bubble Sort"
   ]
  },
  {
   "cell_type": "code",
   "execution_count": 10,
   "metadata": {},
   "outputs": [
    {
     "name": "stdout",
     "output_type": "stream",
     "text": [
      "Running bubbleSort(tests)\n",
      "Best : O(n) Time\n",
      "Average : O(n^2) Time\n",
      "Worst : O(n^2) Time\n",
      "{'random': 'O(n^2)', 'sorted': 'O(n)', 'reversed': 'O(n^2)', 'partial': 'O(n^2)', 'Ksorted': 'O(n)', 'almost_equal': 'O(n^2)'}\n"
     ]
    }
   ],
   "source": [
    "from bigO import BigO    \n",
    "\n",
    "def bubbleSort(array):\n",
    "    \n",
    "  for i in range(len(array)):\n",
    "    swapped = False\n",
    "    \n",
    "    for j in range(0, len(array) - i - 1):\n",
    "\n",
    "      if array[j] > array[j + 1]:\n",
    "\n",
    "        temp = array[j]\n",
    "        array[j] = array[j+1]\n",
    "        array[j+1] = temp\n",
    "\n",
    "        swapped = True\n",
    "\n",
    "    if not swapped:\n",
    "      break\n",
    "\n",
    "lib = BigO()\n",
    "\n",
    "result = lib.test_all(bubbleSort)\n",
    "\n",
    "print(result)\n"
   ]
  },
  {
   "cell_type": "markdown",
   "metadata": {},
   "source": [
    "#### Selection Sort"
   ]
  },
  {
   "cell_type": "code",
   "execution_count": 11,
   "metadata": {},
   "outputs": [
    {
     "name": "stdout",
     "output_type": "stream",
     "text": [
      "Running selectionSort(tests)\n",
      "Best : O(n^2) Time\n",
      "Average : O(n^2) Time\n",
      "Worst : O(n^2) Time\n",
      "{'random': 'O(n^2)', 'sorted': 'O(n^2)', 'reversed': 'O(n^2)', 'partial': 'O(n^2)', 'Ksorted': 'O(n^2)', 'almost_equal': 'O(n^2)'}\n"
     ]
    }
   ],
   "source": [
    "from bigO import BigO\n",
    "\n",
    "def selectionSort(array):\n",
    "    size = len(array)\n",
    "   \n",
    "    for step in range(size):\n",
    "        min_idx = step\n",
    "\n",
    "        for i in range(step + 1, size):\n",
    "         \n",
    "            if array[i] < array[min_idx]:\n",
    "                min_idx = i\n",
    "         \n",
    "        (array[step], array[min_idx]) = (array[min_idx], array[step])\n",
    "\n",
    "\n",
    "lib = BigO()\n",
    "\n",
    "result = lib.test_all(selectionSort)\n",
    "\n",
    "print(result)"
   ]
  }
 ],
 "metadata": {
  "kernelspec": {
   "display_name": "Python 3.10.6 64-bit",
   "language": "python",
   "name": "python3"
  },
  "language_info": {
   "codemirror_mode": {
    "name": "ipython",
    "version": 3
   },
   "file_extension": ".py",
   "mimetype": "text/x-python",
   "name": "python",
   "nbconvert_exporter": "python",
   "pygments_lexer": "ipython3",
   "version": "3.10.6"
  },
  "orig_nbformat": 4,
  "vscode": {
   "interpreter": {
    "hash": "26de051ba29f2982a8de78e945f0abaf191376122a1563185a90213a26c5da77"
   }
  }
 },
 "nbformat": 4,
 "nbformat_minor": 2
}
