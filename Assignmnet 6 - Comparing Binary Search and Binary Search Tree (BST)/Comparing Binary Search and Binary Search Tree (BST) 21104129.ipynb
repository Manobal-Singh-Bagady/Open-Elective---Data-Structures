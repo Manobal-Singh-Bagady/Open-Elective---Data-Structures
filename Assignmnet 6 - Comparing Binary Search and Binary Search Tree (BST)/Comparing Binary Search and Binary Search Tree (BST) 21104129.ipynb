{
 "cells": [
  {
   "cell_type": "markdown",
   "metadata": {},
   "source": [
    "# Assignment 6 - Comparing Binary Search and Binary Search Tree (BST)\n",
    "\n",
    "---\n",
    "\n"
   ]
  },
  {
   "cell_type": "markdown",
   "metadata": {},
   "source": [
    "## 1. Taking an array of numbers"
   ]
  },
  {
   "cell_type": "code",
   "execution_count": 1,
   "metadata": {},
   "outputs": [],
   "source": [
    "arr = [2, 3, 4, 10 , 40, 50, 60, 70, 80, 90, 100, 110]"
   ]
  },
  {
   "cell_type": "markdown",
   "metadata": {},
   "source": [
    "## 2. Constructing a BST using the array"
   ]
  },
  {
   "cell_type": "markdown",
   "metadata": {},
   "source": [
    "Program to convert our array into a BST:"
   ]
  },
  {
   "cell_type": "code",
   "execution_count": 2,
   "metadata": {},
   "outputs": [],
   "source": [
    "class Treenode:\n",
    "\tdef __init__(self, data):\n",
    "\t\tself.data = data\n",
    "\t\tself.left = None\n",
    "\t\tself.right = None\n",
    "\n",
    "# Python code to convert a sorted array to a balanced Binary Search Tree\n",
    "\n",
    "def sortedArrayToBST(arr):\n",
    "\t\"\"\"\n",
    "\tfunction to convert sorted array to a\n",
    "\tbalanced BST\n",
    "\tinput : sorted array of integers\n",
    "\toutput: root node of balanced BST\n",
    "\n",
    "\t\"\"\"\n",
    "\t\n",
    "\tif not arr:\n",
    "\t\treturn None\n",
    "\n",
    "\t# find middle index\n",
    "\tmid = (len(arr)) // 2\n",
    "\t\n",
    "\t# make the middle element the root\n",
    "\troot = Treenode(arr[mid])\n",
    "\t\n",
    "\t# left subtree of root has all values <arr[mid]\n",
    "\troot.left = sortedArrayToBST(arr[:mid])\n",
    "\t\n",
    "\t# right subtree of root has all values >arr[mid]\n",
    "\troot.right = sortedArrayToBST(arr[mid+1:])\n",
    "\treturn root\n",
    "\n",
    "\n",
    "root = sortedArrayToBST(arr)\n"
   ]
  },
  {
   "cell_type": "markdown",
   "metadata": {},
   "source": [
    "Program to print the BST:"
   ]
  },
  {
   "cell_type": "code",
   "execution_count": 3,
   "metadata": {},
   "outputs": [
    {
     "name": "stdout",
     "output_type": "stream",
     "text": [
      "Array:  [2, 3, 4, 10, 40, 50, 60, 70, 80, 90, 100, 110]\n",
      "BST creatied from array is:\n",
      "              60               \n",
      "      10               90       \n",
      "  3       50       80       110   \n",
      "2   4   40       70       100     \n"
     ]
    }
   ],
   "source": [
    "class Tree:\n",
    "\tdef __init__(self):\n",
    "\t\tself.root = None\n",
    "\n",
    "\n",
    "def height(root):\n",
    "\tif root is None:\n",
    "\t\treturn 0\n",
    "\treturn max(height(root.left), height(root.right))+1\n",
    "\n",
    "\n",
    "def getcol(h):\n",
    "\tif h == 1:\n",
    "\t\treturn 1\n",
    "\treturn getcol(h-1) + getcol(h-1) + 1\n",
    "\n",
    "\n",
    "def printTree(M, root, col, row, height):\n",
    "\tif root is None:\n",
    "\t\treturn\n",
    "\tM[row][col] = root.data\n",
    "\tprintTree(M, root.left, col-pow(2, height-2), row+1, height-1)\n",
    "\tprintTree(M, root.right, col+pow(2, height-2), row+1, height-1)\n",
    "\n",
    "\n",
    "def TreePrinter():\n",
    "\th = height(myTree.root)\n",
    "\tcol = getcol(h)\n",
    "\tM = [[0 for _ in range(col)] for __ in range(h)]\n",
    "\tprintTree(M, myTree.root, col//2, 0, h)\n",
    "\tfor i in M:\n",
    "\t\tfor j in i:\n",
    "\t\t\tif j == 0:\n",
    "\t\t\t\tprint(\" \", end=\" \")\n",
    "\t\t\telse:\n",
    "\t\t\t\tprint(j, end=\" \")\n",
    "\t\tprint(\"\")\n",
    "\n",
    "\n",
    "myTree = Tree()\n",
    "myTree.root = root\n",
    "print(\"Array: \", arr)\n",
    "print(\"BST creatied from array is:\")\n",
    "TreePrinter()\n"
   ]
  },
  {
   "cell_type": "markdown",
   "metadata": {},
   "source": [
    "## 3. Writing Special Functions to delete node form BST and array"
   ]
  },
  {
   "cell_type": "markdown",
   "metadata": {},
   "source": [
    "Function to delete node from BST:"
   ]
  },
  {
   "cell_type": "code",
   "execution_count": 4,
   "metadata": {},
   "outputs": [],
   "source": [
    "# A utility function to do inorder traversal of BST\n",
    "def inorder(root):\n",
    "    if root is not None:\n",
    "        inorder(root.left)\n",
    "        print(root.data, end=\" \")\n",
    "        inorder(root.right)\n",
    "  \n",
    "# A utility function to insert a new node with given data in BST\n",
    "def insert(node, data):\n",
    "  \n",
    "    # If the tree is empty, return a new node\n",
    "    if node is None:\n",
    "        return Treenode(data)\n",
    "  \n",
    "    # Otherwise recur down the tree\n",
    "    if data < node.data:\n",
    "        node.left = insert(node.left, data)\n",
    "    else:\n",
    "        node.right = insert(node.right, data)\n",
    "  \n",
    "    # return the (unchanged) node pointer\n",
    "    return node\n",
    "  \n",
    "  \n",
    "# Given a binary search tree and a data, this function delete the data and returns the new root\n",
    "def deleteNode(root, data):\n",
    "  \n",
    "    # Base Case\n",
    "    if root is None:\n",
    "        return root\n",
    "  \n",
    "    # Recursive calls for ancestors of node to be deleted\n",
    "    if data < root.data:\n",
    "        root.left = deleteNode(root.left, data)\n",
    "        return root\n",
    "  \n",
    "    elif(data > root.data):\n",
    "        root.right = deleteNode(root.right, data)\n",
    "        return root\n",
    "  \n",
    "    # We reach here when root is the node to be deleted.\n",
    "      \n",
    "    # If root node is a leaf node\n",
    "      \n",
    "    if root.left is None and root.right is None:\n",
    "          return None\n",
    "  \n",
    "    # If one of the children is empty\n",
    "  \n",
    "    if root.left is None:\n",
    "        temp = root.right\n",
    "        root = None\n",
    "        return temp\n",
    "  \n",
    "    elif root.right is None:\n",
    "        temp = root.left\n",
    "        root = None\n",
    "        return temp\n",
    "  \n",
    "    # If both children exist\n",
    "  \n",
    "    succParent = root\n",
    "  \n",
    "    # Find Successor\n",
    "  \n",
    "    succ = root.right\n",
    "  \n",
    "    while succ.left != None:\n",
    "        succParent = succ\n",
    "        succ = succ.left\n",
    "  \n",
    "    # Delete successor.Since successor\n",
    "    # is always left child of its parent\n",
    "    # we can safely make successor's right\n",
    "    # right child as left of its parent.\n",
    "    # If there is no succ, then assign\n",
    "    # succ->right to succParent->right\n",
    "    if succParent != root:\n",
    "        succParent.left = succ.right\n",
    "    else:\n",
    "        succParent.right = succ.right\n",
    "  \n",
    "    # Copy Successor Data to root\n",
    "  \n",
    "    root.data = succ.data\n",
    "  \n",
    "    return root"
   ]
  },
  {
   "cell_type": "markdown",
   "metadata": {},
   "source": [
    "Function to delete node from an array:"
   ]
  },
  {
   "cell_type": "code",
   "execution_count": 5,
   "metadata": {},
   "outputs": [],
   "source": [
    "def deleteElement(arr, x):\n",
    "    if x in arr:\n",
    "        arr.remove(x)\n",
    "    return arr    "
   ]
  },
  {
   "cell_type": "markdown",
   "metadata": {},
   "source": [
    "### Deleting nodes"
   ]
  },
  {
   "cell_type": "markdown",
   "metadata": {},
   "source": [
    "Deleting nodes from BST:"
   ]
  },
  {
   "cell_type": "code",
   "execution_count": 6,
   "metadata": {},
   "outputs": [
    {
     "name": "stdout",
     "output_type": "stream",
     "text": [
      "BST before deletion:\n",
      "              60               \n",
      "      10               90       \n",
      "  3       50       80       110   \n",
      "2   4   40       70       100     \n",
      "BST after deletion:\n",
      "              60               \n",
      "      10               90       \n",
      "  3       50       80       110   \n",
      "2   4   40       70             \n"
     ]
    }
   ],
   "source": [
    "print(\"BST before deletion:\")\n",
    "TreePrinter()\n",
    "deleteNode(root, 100)\n",
    "print(\"BST after deletion:\")\n",
    "TreePrinter()"
   ]
  },
  {
   "cell_type": "markdown",
   "metadata": {},
   "source": [
    "deleting nodes from array:"
   ]
  },
  {
   "cell_type": "code",
   "execution_count": 7,
   "metadata": {},
   "outputs": [
    {
     "name": "stdout",
     "output_type": "stream",
     "text": [
      "array before deletion:\n",
      "[2, 3, 4, 10, 40, 50, 60, 70, 80, 90, 100, 110]\n",
      "array after deletion:\n",
      "[2, 3, 4, 10, 40, 50, 60, 70, 80, 90, 110]\n"
     ]
    }
   ],
   "source": [
    "print(\"array before deletion:\")\n",
    "print(arr)\n",
    "deleteElement(arr, 100)\n",
    "print(\"array after deletion:\")\n",
    "print(arr)"
   ]
  },
  {
   "cell_type": "markdown",
   "metadata": {},
   "source": [
    "## 4. Computing the space complexities of both structures"
   ]
  },
  {
   "cell_type": "markdown",
   "metadata": {},
   "source": [
    "### For BST"
   ]
  },
  {
   "cell_type": "markdown",
   "metadata": {},
   "source": [
    "The space complexity for deleting the node from a BST is O(h) where h is the height of the tree."
   ]
  },
  {
   "cell_type": "markdown",
   "metadata": {},
   "source": [
    "### For Array"
   ]
  },
  {
   "cell_type": "markdown",
   "metadata": {},
   "source": [
    " The space complexity for deleting the node from an array is O(n) where n is the size of the array."
   ]
  },
  {
   "cell_type": "markdown",
   "metadata": {},
   "source": [
    "## Comment while comparing both"
   ]
  },
  {
   "cell_type": "markdown",
   "metadata": {},
   "source": [
    "As we can see the space complexities for both is equal in worst case scenario. But for best case while deleting element from an array the time complexity is O(1) and for BST it is O(h) where h is the height of the tree. So, in best case the time complexity for deleting element from an array is less than BST. So array is a better data structure in here."
   ]
  }
 ],
 "metadata": {
  "kernelspec": {
   "display_name": "Python 3.10.6 64-bit",
   "language": "python",
   "name": "python3"
  },
  "language_info": {
   "codemirror_mode": {
    "name": "ipython",
    "version": 3
   },
   "file_extension": ".py",
   "mimetype": "text/x-python",
   "name": "python",
   "nbconvert_exporter": "python",
   "pygments_lexer": "ipython3",
   "version": "3.10.6"
  },
  "orig_nbformat": 4,
  "vscode": {
   "interpreter": {
    "hash": "26de051ba29f2982a8de78e945f0abaf191376122a1563185a90213a26c5da77"
   }
  }
 },
 "nbformat": 4,
 "nbformat_minor": 2
}
