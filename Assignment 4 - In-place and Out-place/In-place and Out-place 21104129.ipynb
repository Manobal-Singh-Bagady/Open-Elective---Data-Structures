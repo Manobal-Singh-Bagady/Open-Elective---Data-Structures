{
 "cells": [
  {
   "cell_type": "markdown",
   "metadata": {},
   "source": [
    "# Assignment 4 - In-place and Out-place\n",
    "\n",
    "***"
   ]
  },
  {
   "cell_type": "markdown",
   "metadata": {},
   "source": [
    "## Question 1\n",
    "\n",
    "##### What is the difference between in-place and out-place sorting algorithms?"
   ]
  },
  {
   "cell_type": "markdown",
   "metadata": {},
   "source": [
    "### Answer\n",
    "\n",
    "| **In-Place Sorting Algorithm** | **Out-Place Sorting Algorithm** |\n",
    "| :---: | :---: |\n",
    "| In-place sorting algorithms do not require any extra space to sort the elements. | Out-place sorting algorithms require extra space to sort the elements. |\n",
    "| In-place sorting algorithms are more efficient than out-place sorting algorithms. | Out-place sorting algorithms are less efficient than in-place sorting algorithms. |\n",
    "| In-place sorting algorithms are more complex than out-place sorting algorithms. | Out-place sorting algorithms are less complex than in-place sorting algorithms. |\n",
    "| In-place sorting algorithms are more stable than out-place sorting algorithms. | Out-place sorting algorithms are less stable than in-place sorting algorithms. |\n",
    "\n"
   ]
  },
  {
   "cell_type": "markdown",
   "metadata": {},
   "source": [
    "## Question 2\n",
    "\n",
    "##### Implement Insertion sort in both (in-place and out-place) manner."
   ]
  },
  {
   "cell_type": "markdown",
   "metadata": {},
   "source": [
    "### Answer"
   ]
  },
  {
   "cell_type": "markdown",
   "metadata": {},
   "source": [
    "#### Implementing Insertion sort using In-place manner:"
   ]
  },
  {
   "cell_type": "code",
   "execution_count": 1,
   "metadata": {},
   "outputs": [],
   "source": [
    "# In-place Insertion Sort\n",
    "\n",
    "def in_place_insertion_sort(arr: list):\n",
    "    \"\"\"Function to perform in-place insertion sort on one-dimensional numerical array.\n",
    "    \n",
    "    Arguments:\n",
    "    array -- array\n",
    "    \"\"\"\n",
    "\n",
    "    for i in range(1, len(arr)):\n",
    "        key = arr[i]\n",
    "        j = i - 1\n",
    "        while j >= 0 and key < arr[j]:\n",
    "            arr[j + 1] = arr[j]\n",
    "            j -= 1\n",
    "        arr[j + 1] = key\n",
    "    return arr"
   ]
  },
  {
   "cell_type": "markdown",
   "metadata": {},
   "source": [
    "Using in-place insertion sort function on an example array:"
   ]
  },
  {
   "cell_type": "code",
   "execution_count": 2,
   "metadata": {},
   "outputs": [
    {
     "name": "stdout",
     "output_type": "stream",
     "text": [
      "\n",
      " Insertion sort in-place: [1, 5, 7, 9, 11]\n"
     ]
    }
   ],
   "source": [
    "list = [9,5,7,1,11]\n",
    "print(\"\\n Insertion sort in-place:\", in_place_insertion_sort(list))"
   ]
  },
  {
   "cell_type": "markdown",
   "metadata": {},
   "source": [
    "#### Implementing Insertion sort using Out-place manner:"
   ]
  },
  {
   "cell_type": "code",
   "execution_count": 3,
   "metadata": {},
   "outputs": [],
   "source": [
    "# Out-place Insertion Sort\n",
    "\n",
    "def out_place_insertion_sort(arr: list):\n",
    "    \"\"\"Function to perform out-place insertion sort on one-dimensional numerical array.\n",
    "    \n",
    "    Arguments:\n",
    "    array -- array\n",
    "    \"\"\"\n",
    "\n",
    "    # Insertion sort is an in-place sorting algorithm, So to implement it in out-place manner we need to create a copy of the array.\n",
    "    \n",
    "    arr_copy = arr.copy()\n",
    "    lst = [arr_copy[0]]\n",
    "    arr_copy.pop(0)\n",
    "    while len(arr_copy)!=0:\n",
    "        key = arr_copy[0]\n",
    "        for i in range(len(lst)-1,-1,-1):\n",
    "            if lst[i] < key:\n",
    "                lst.insert(i+1, key)\n",
    "                arr_copy.pop(0)\n",
    "                break\n",
    "            else:\n",
    "                lst.insert(0, key)\n",
    "                arr_copy.pop(0)\n",
    "                break\n",
    "    return (lst)"
   ]
  },
  {
   "cell_type": "markdown",
   "metadata": {},
   "source": [
    "Using out-place insertion sort function on an example array:"
   ]
  },
  {
   "cell_type": "code",
   "execution_count": 4,
   "metadata": {},
   "outputs": [
    {
     "name": "stdout",
     "output_type": "stream",
     "text": [
      "\n",
      " Insertion sort out-place: [1, 7, 14, 53, 89]\n"
     ]
    }
   ],
   "source": [
    "list = [14,53,7,1,89]\n",
    "print(\"\\n Insertion sort out-place:\", out_place_insertion_sort(list))"
   ]
  },
  {
   "cell_type": "markdown",
   "metadata": {},
   "source": [
    "## Question 3\n",
    "\n",
    "##### Suggest some practical examples of using in-place and out-place techniques."
   ]
  },
  {
   "cell_type": "markdown",
   "metadata": {},
   "source": [
    "### Answer"
   ]
  },
  {
   "cell_type": "markdown",
   "metadata": {},
   "source": [
    "Practical Examples of In-place and Out-place Sorting algorithms are:\n",
    "\n",
    "| **In-Place Sorting Algorithm** | **Out-Place Sorting Algorithm** |\n",
    "| :---: | :---: |\n",
    "| Used in places where less memory is available but no limit to time, like micro computers. | Used in places where space is available but time limit is less, like super computers|\n",
    "| Example - Bubble Sort | Example - Merge Sort |\n"
   ]
  }
 ],
 "metadata": {
  "kernelspec": {
   "display_name": "Python 3.10.6 64-bit",
   "language": "python",
   "name": "python3"
  },
  "language_info": {
   "codemirror_mode": {
    "name": "ipython",
    "version": 3
   },
   "file_extension": ".py",
   "mimetype": "text/x-python",
   "name": "python",
   "nbconvert_exporter": "python",
   "pygments_lexer": "ipython3",
   "version": "3.10.6"
  },
  "orig_nbformat": 4,
  "vscode": {
   "interpreter": {
    "hash": "26de051ba29f2982a8de78e945f0abaf191376122a1563185a90213a26c5da77"
   }
  }
 },
 "nbformat": 4,
 "nbformat_minor": 2
}
