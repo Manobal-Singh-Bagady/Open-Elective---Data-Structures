{
 "cells": [
  {
   "cell_type": "markdown",
   "metadata": {},
   "source": [
    "# Assinment 3 - Size Unknown\n",
    "\n",
    "***"
   ]
  },
  {
   "cell_type": "markdown",
   "metadata": {},
   "source": [
    "## Searching for an element in an array/list.\n"
   ]
  },
  {
   "cell_type": "markdown",
   "metadata": {},
   "source": [
    "Creating an array.\n"
   ]
  },
  {
   "cell_type": "code",
   "execution_count": 63,
   "metadata": {},
   "outputs": [
    {
     "name": "stdout",
     "output_type": "stream",
     "text": [
      "Array in which element needs to be found: [1, 6, 7, 8, 11, 12, 13, 32, 33, 34, 35, 36, 54, 144, 222, 250]\n"
     ]
    }
   ],
   "source": [
    "arr = [1,6,7,8,11,12,13,32,33,34,35,36,54,144,222,250]      # assuming the array\n",
    "\n",
    "print(\"Array in which element needs to be found:\",arr)"
   ]
  },
  {
   "cell_type": "markdown",
   "metadata": {},
   "source": [
    "### Method 1: Linear Search\n",
    "\n",
    "Here we will search for an element in the array by traversing the array from the first element to the last element. If the element is found, we will return the index of the element. If the element is not found, we will return -1.\n",
    "\n",
    "Since the element is unknown we will break the loop if it reaches an element greater than the element being searched for."
   ]
  },
  {
   "cell_type": "code",
   "execution_count": 64,
   "metadata": {},
   "outputs": [
    {
     "name": "stdout",
     "output_type": "stream",
     "text": [
      "Finding the element using Linear Search...\n",
      "\n",
      "Finding Element 12:\n",
      "Element found at index 5\n",
      "\n",
      "Finding Element 14:\n",
      "Element not found\n"
     ]
    }
   ],
   "source": [
    "def LinearSearch(l: list, num: int):\n",
    "    \"\"\"\"Function to find the index of the element in the array using Linear Search.\n",
    "    \n",
    "    Parameters:\n",
    "    l: list\n",
    "        The list in which the element needs to be found.\n",
    "    num: int\n",
    "        The element to be found.\"\"\"\n",
    "        \n",
    "    i = 0\n",
    "    while (l[i] > num)==False:\n",
    "        if l[i]== num:\n",
    "            return i\n",
    "        \n",
    "        else:\n",
    "            i+=1\n",
    "            if arr[i]==arr[-1]:\n",
    "                break\n",
    "    return -1                       # if element not found return -1\n",
    "\n",
    "print(\"Finding the element using Linear Search...\")\n",
    "\n",
    "print(\"\\nFinding Element 12:\")\n",
    "\n",
    "if LinearSearch(arr,12) == -1:\n",
    "    print(\"Element not found\")\n",
    "else:\n",
    "    print(\"Element found at index\",LinearSearch(arr,12))\n",
    "\n",
    "print(\"\\nFinding Element 14:\")\n",
    "\n",
    "if LinearSearch(arr,14) == -1:\n",
    "    print(\"Element not found\")\n",
    "else:\n",
    "    print(\"Element found at index\",LinearSearch(arr,14))\n"
   ]
  },
  {
   "cell_type": "markdown",
   "metadata": {},
   "source": [
    "### Method 2: Binary Search\n",
    "\n",
    "Here we will search for an element in the array by dividing the array into two parts and checking if the element is present in the first half or the second half. If the element is present in the first half, we will search for the element in the first half. If the element is present in the second half, we will search for the element in the second half. If the element is not found, we will return -1.\n",
    "\n",
    "Since the last element is unknown so to find the part of the array we need to apply binary search on we will estimate the high by first assuming it 1 then multiplying it by 2 till we reach an element greater than the element being searched for. Then we will apply binary search on the array from low to high."
   ]
  },
  {
   "cell_type": "code",
   "execution_count": 65,
   "metadata": {},
   "outputs": [
    {
     "name": "stdout",
     "output_type": "stream",
     "text": [
      "\n",
      "Finding the element using Binary Search...\n",
      "\n",
      "Finding Element 12:\n",
      "Element found at index 5\n",
      "\n",
      "Finding Element 14:\n",
      "Element not found\n"
     ]
    }
   ],
   "source": [
    "def BinarySearch(l: list, num: int):\n",
    "    \"\"\"\"Function to find the index of the element in the array using Binary Search.\n",
    "    \n",
    "    \n",
    "    Parameters:\n",
    "    l: list\n",
    "        The list in which the element needs to be found.\n",
    "    num: int\n",
    "        The element to be found.\"\"\"\n",
    "\n",
    "    # Finding the highest and lowest index of the array\n",
    "    low = 0\n",
    "    high = 1\n",
    "\n",
    "    while l[high] < num:\n",
    "        low = high\n",
    "        high = high*2\n",
    "\n",
    "    # Finding the element using Binary Search\n",
    "    mid = (low+high)//2\n",
    "    while low <= high:\n",
    "        if l[mid]>num:\n",
    "            high = mid-1\n",
    "            mid = (low+high)//2\n",
    "        elif l[mid]<num:\n",
    "            low = mid+1\n",
    "            mid = (low+high)//2\n",
    "        else:\n",
    "            return mid\n",
    "\n",
    "    # If element not found return -1        \n",
    "    return -1\n",
    "\n",
    "print(\"\\nFinding the element using Binary Search...\")\n",
    "\n",
    "print(\"\\nFinding Element 12:\")\n",
    "\n",
    "if BinarySearch(arr,12) == -1:\n",
    "    print(\"Element not found\")\n",
    "else:\n",
    "    print(\"Element found at index\",BinarySearch(arr,12))\n",
    "\n",
    "print(\"\\nFinding Element 14:\")\n",
    "if BinarySearch(arr,14) == -1:\n",
    "    print(\"Element not found\")\n",
    "else:\n",
    "    print(\"Element found at index\",BinarySearch(arr,14))"
   ]
  }
 ],
 "metadata": {
  "kernelspec": {
   "display_name": "Python 3.10.6 64-bit",
   "language": "python",
   "name": "python3"
  },
  "language_info": {
   "codemirror_mode": {
    "name": "ipython",
    "version": 3
   },
   "file_extension": ".py",
   "mimetype": "text/x-python",
   "name": "python",
   "nbconvert_exporter": "python",
   "pygments_lexer": "ipython3",
   "version": "3.10.6"
  },
  "orig_nbformat": 4,
  "vscode": {
   "interpreter": {
    "hash": "26de051ba29f2982a8de78e945f0abaf191376122a1563185a90213a26c5da77"
   }
  }
 },
 "nbformat": 4,
 "nbformat_minor": 2
}
