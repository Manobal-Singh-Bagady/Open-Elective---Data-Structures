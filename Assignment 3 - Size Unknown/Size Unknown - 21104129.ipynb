{
 "cells": [
  {
   "cell_type": "markdown",
   "metadata": {},
   "source": [
    "# Assinment 2 - Size Unknown"
   ]
  },
  {
   "cell_type": "markdown",
   "metadata": {},
   "source": [
    "#### Searching for an element in an array/list.\n"
   ]
  },
  {
   "cell_type": "markdown",
   "metadata": {},
   "source": [
    "Creating an array.\n"
   ]
  },
  {
   "cell_type": "code",
   "execution_count": 1,
   "metadata": {},
   "outputs": [
    {
     "name": "stdout",
     "output_type": "stream",
     "text": [
      "Array in which element needs to be found: [1, 6, 7, 8, 11, 12, 13, 32, 33, 34, 35, 36, 54, 144, 222, 250]\n"
     ]
    }
   ],
   "source": [
    "arr = [1,6,7,8,11,12,13,32,33,34,35,36,54,144,222,250]\n",
    "\n",
    "print(\"Array in which element needs to be found:\",arr)"
   ]
  },
  {
   "cell_type": "markdown",
   "metadata": {},
   "source": [
    "Taking input of element we need to find."
   ]
  },
  {
   "cell_type": "code",
   "execution_count": 3,
   "metadata": {},
   "outputs": [],
   "source": [
    "n = int(input(\"Enter the element to be searched:\"))\n",
    "\n",
    "# For example i have given the input as 12"
   ]
  },
  {
   "cell_type": "markdown",
   "metadata": {},
   "source": [
    "### Method 1: Linear Search"
   ]
  },
  {
   "cell_type": "code",
   "execution_count": 4,
   "metadata": {},
   "outputs": [
    {
     "name": "stdout",
     "output_type": "stream",
     "text": [
      "Finding the element using Linear Search...\n",
      "Element found at index 5\n"
     ]
    }
   ],
   "source": [
    "def LinearSearch(l: list):\n",
    "    i = 0\n",
    "    while (arr[i] > n)==False:\n",
    "        if arr[i]== n:\n",
    "            return i\n",
    "        else:\n",
    "            i+=1\n",
    "    return -1\n",
    "\n",
    "print(\"Finding the element using Linear Search...\")\n",
    "\n",
    "if LinearSearch(arr) == -1:\n",
    "    print(\"Element not found\")\n",
    "else:\n",
    "    print(\"Element found at index\",LinearSearch(arr))\n"
   ]
  },
  {
   "cell_type": "code",
   "execution_count": null,
   "metadata": {},
   "outputs": [],
   "source": []
  }
 ],
 "metadata": {
  "kernelspec": {
   "display_name": "Python 3.10.6 64-bit",
   "language": "python",
   "name": "python3"
  },
  "language_info": {
   "codemirror_mode": {
    "name": "ipython",
    "version": 3
   },
   "file_extension": ".py",
   "mimetype": "text/x-python",
   "name": "python",
   "nbconvert_exporter": "python",
   "pygments_lexer": "ipython3",
   "version": "3.10.6"
  },
  "orig_nbformat": 4,
  "vscode": {
   "interpreter": {
    "hash": "26de051ba29f2982a8de78e945f0abaf191376122a1563185a90213a26c5da77"
   }
  }
 },
 "nbformat": 4,
 "nbformat_minor": 2
}
